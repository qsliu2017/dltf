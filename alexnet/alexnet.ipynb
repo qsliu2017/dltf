{
 "cells": [
  {
   "cell_type": "code",
   "execution_count": null,
   "metadata": {},
   "outputs": [],
   "source": [
    "%pip install tensorflow tensorflow_datasets\n"
   ]
  },
  {
   "cell_type": "code",
   "execution_count": 5,
   "metadata": {},
   "outputs": [],
   "source": [
    "import tensorflow_datasets as tfds\n",
    "import tensorflow as tf\n"
   ]
  },
  {
   "cell_type": "code",
   "execution_count": null,
   "metadata": {},
   "outputs": [],
   "source": [
    "# tfds.list_builders()\n",
    "ds = tfds.load('imagenet2012_subset')\n",
    "print(ds)\n"
   ]
  },
  {
   "cell_type": "code",
   "execution_count": 10,
   "metadata": {},
   "outputs": [
    {
     "name": "stdout",
     "output_type": "stream",
     "text": [
      "Model: \"sequential_3\"\n",
      "_________________________________________________________________\n",
      " Layer (type)                Output Shape              Param #   \n",
      "=================================================================\n",
      " conv2d_15 (Conv2D)          (None, 54, 54, 96)        34944     \n",
      "                                                                 \n",
      " max_pooling2d_9 (MaxPooling  (None, 26, 26, 96)       0         \n",
      " 2D)                                                             \n",
      "                                                                 \n",
      " conv2d_16 (Conv2D)          (None, 26, 26, 256)       614656    \n",
      "                                                                 \n",
      " max_pooling2d_10 (MaxPoolin  (None, 12, 12, 256)      0         \n",
      " g2D)                                                            \n",
      "                                                                 \n",
      " conv2d_17 (Conv2D)          (None, 12, 12, 384)       885120    \n",
      "                                                                 \n",
      " conv2d_18 (Conv2D)          (None, 12, 12, 384)       1327488   \n",
      "                                                                 \n",
      " conv2d_19 (Conv2D)          (None, 12, 12, 256)       884992    \n",
      "                                                                 \n",
      " max_pooling2d_11 (MaxPoolin  (None, 5, 5, 256)        0         \n",
      " g2D)                                                            \n",
      "                                                                 \n",
      " flatten_3 (Flatten)         (None, 6400)              0         \n",
      "                                                                 \n",
      " dense_9 (Dense)             (None, 4096)              26218496  \n",
      "                                                                 \n",
      " dropout_6 (Dropout)         (None, 4096)              0         \n",
      "                                                                 \n",
      " dense_10 (Dense)            (None, 4096)              16781312  \n",
      "                                                                 \n",
      " dropout_7 (Dropout)         (None, 4096)              0         \n",
      "                                                                 \n",
      " dense_11 (Dense)            (None, 1000)              4097000   \n",
      "                                                                 \n",
      "=================================================================\n",
      "Total params: 50,844,008\n",
      "Trainable params: 50,844,008\n",
      "Non-trainable params: 0\n",
      "_________________________________________________________________\n"
     ]
    }
   ],
   "source": [
    "model = tf.keras.models.Sequential([\n",
    "    # 1st layer\n",
    "    tf.keras.layers.Conv2D(\n",
    "        96, 11, strides=4, activation='relu', input_shape=(224, 224, 3)),\n",
    "    tf.keras.layers.MaxPooling2D(3, 2),\n",
    "    # 2nd layer\n",
    "    tf.keras.layers.Conv2D(256, 5, padding='same', activation='relu'),\n",
    "    tf.keras.layers.MaxPooling2D(3, 2),\n",
    "    # 3rd layer\n",
    "    tf.keras.layers.Conv2D(384, 3, padding='same', activation='relu'),\n",
    "    # 4th layer\n",
    "    tf.keras.layers.Conv2D(384, 3, padding='same', activation='relu'),\n",
    "    # 5th layer\n",
    "    tf.keras.layers.Conv2D(256, 3, padding='same', activation='relu'),\n",
    "    tf.keras.layers.MaxPooling2D(3, 2),\n",
    "\n",
    "    tf.keras.layers.Flatten(),\n",
    "\n",
    "    # 6th layer\n",
    "    tf.keras.layers.Dense(4096, activation='relu'),\n",
    "    tf.keras.layers.Dropout(0.5),\n",
    "    # 7th layer\n",
    "    tf.keras.layers.Dense(4096, activation='relu'),\n",
    "    tf.keras.layers.Dropout(0.5),\n",
    "    # 8th layer\n",
    "    tf.keras.layers.Dense(1000, activation='softmax'),\n",
    "])\n",
    "\n",
    "model.compile(\n",
    "    optimizer=tf.keras.optimizers.legacy.SGD(\n",
    "        learning_rate=0.01, momentum=0.9, decay=0.0005),\n",
    "    loss=tf.keras.losses.SparseCategoricalCrossentropy(),\n",
    ")\n",
    "\n",
    "model.summary()\n"
   ]
  }
 ],
 "metadata": {
  "kernelspec": {
   "display_name": "base",
   "language": "python",
   "name": "python3"
  },
  "language_info": {
   "codemirror_mode": {
    "name": "ipython",
    "version": 3
   },
   "file_extension": ".py",
   "mimetype": "text/x-python",
   "name": "python",
   "nbconvert_exporter": "python",
   "pygments_lexer": "ipython3",
   "version": "3.10.10"
  },
  "orig_nbformat": 4
 },
 "nbformat": 4,
 "nbformat_minor": 2
}
